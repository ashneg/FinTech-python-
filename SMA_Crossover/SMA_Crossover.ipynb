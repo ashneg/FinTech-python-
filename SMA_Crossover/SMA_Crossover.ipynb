{
  "nbformat": 4,
  "nbformat_minor": 0,
  "metadata": {
    "colab": {
      "name": "SMA_Crossover.ipynb",
      "version": "0.3.2",
      "provenance": []
    },
    "kernelspec": {
      "name": "python3",
      "display_name": "Python 3"
    }
  },
  "cells": [
    {
      "cell_type": "markdown",
      "metadata": {
        "id": "OXVbinUf4sp2",
        "colab_type": "text"
      },
      "source": [
        "!pip install quandl"
      ]
    },
    {
      "cell_type": "code",
      "metadata": {
        "id": "ZzH6sXu3400b",
        "colab_type": "code",
        "colab": {}
      },
      "source": [
        "# importing libraries\n",
        "import quandl as qd\n",
        "import pandas as pd\n",
        "import matplotlib.pyplot as plt\n",
        "import matplotlib.dates as mdates\n",
        "#qd.ApiConfig.api_key = ''\n",
        "import numpy as np"
      ],
      "execution_count": 0,
      "outputs": []
    },
    {
      "cell_type": "code",
      "metadata": {
        "id": "7aIoz97D49yM",
        "colab_type": "code",
        "colab": {}
      },
      "source": [
        "dataset = qd.get(\"BITSTAMP/USD\").to_csv('Bitcoin.csv') #importing bitcoin dataframe from quandl and saving it to csv file for later use"
      ],
      "execution_count": 0,
      "outputs": []
    },
    {
      "cell_type": "code",
      "metadata": {
        "id": "dbCkbIWR4-sC",
        "colab_type": "code",
        "colab": {
          "base_uri": "https://localhost:8080/",
          "height": 238
        },
        "outputId": "c9d69868-8918-443f-fd52-4cb499cceb95"
      },
      "source": [
        "df = pd.read_csv('Bitcoin.csv',parse_dates=True,index_col=0) #The dataes were previously prased but to increase usibility param are given\n",
        "df.rename(columns = {'Last':'Close'},inplace=True)\n",
        "df.head()"
      ],
      "execution_count": 4,
      "outputs": [
        {
          "output_type": "execute_result",
          "data": {
            "text/html": [
              "<div>\n",
              "<style scoped>\n",
              "    .dataframe tbody tr th:only-of-type {\n",
              "        vertical-align: middle;\n",
              "    }\n",
              "\n",
              "    .dataframe tbody tr th {\n",
              "        vertical-align: top;\n",
              "    }\n",
              "\n",
              "    .dataframe thead th {\n",
              "        text-align: right;\n",
              "    }\n",
              "</style>\n",
              "<table border=\"1\" class=\"dataframe\">\n",
              "  <thead>\n",
              "    <tr style=\"text-align: right;\">\n",
              "      <th></th>\n",
              "      <th>High</th>\n",
              "      <th>Low</th>\n",
              "      <th>Close</th>\n",
              "      <th>Bid</th>\n",
              "      <th>Ask</th>\n",
              "      <th>Volume</th>\n",
              "      <th>VWAP</th>\n",
              "    </tr>\n",
              "    <tr>\n",
              "      <th>Date</th>\n",
              "      <th></th>\n",
              "      <th></th>\n",
              "      <th></th>\n",
              "      <th></th>\n",
              "      <th></th>\n",
              "      <th></th>\n",
              "      <th></th>\n",
              "    </tr>\n",
              "  </thead>\n",
              "  <tbody>\n",
              "    <tr>\n",
              "      <th>2014-04-15</th>\n",
              "      <td>515.00</td>\n",
              "      <td>453.16</td>\n",
              "      <td>499.01</td>\n",
              "      <td>500.01</td>\n",
              "      <td>505.04</td>\n",
              "      <td>28535.844106</td>\n",
              "      <td>491.41</td>\n",
              "    </tr>\n",
              "    <tr>\n",
              "      <th>2014-04-16</th>\n",
              "      <td>548.00</td>\n",
              "      <td>494.02</td>\n",
              "      <td>534.00</td>\n",
              "      <td>535.01</td>\n",
              "      <td>536.00</td>\n",
              "      <td>31159.941300</td>\n",
              "      <td>520.21</td>\n",
              "    </tr>\n",
              "    <tr>\n",
              "      <th>2014-04-17</th>\n",
              "      <td>537.24</td>\n",
              "      <td>481.63</td>\n",
              "      <td>506.52</td>\n",
              "      <td>504.70</td>\n",
              "      <td>505.38</td>\n",
              "      <td>21126.375080</td>\n",
              "      <td>504.83</td>\n",
              "    </tr>\n",
              "    <tr>\n",
              "      <th>2014-04-18</th>\n",
              "      <td>508.43</td>\n",
              "      <td>470.00</td>\n",
              "      <td>487.00</td>\n",
              "      <td>484.14</td>\n",
              "      <td>487.00</td>\n",
              "      <td>11879.484756</td>\n",
              "      <td>485.72</td>\n",
              "    </tr>\n",
              "    <tr>\n",
              "      <th>2014-04-19</th>\n",
              "      <td>507.43</td>\n",
              "      <td>472.81</td>\n",
              "      <td>504.74</td>\n",
              "      <td>504.74</td>\n",
              "      <td>505.00</td>\n",
              "      <td>10262.195861</td>\n",
              "      <td>492.22</td>\n",
              "    </tr>\n",
              "  </tbody>\n",
              "</table>\n",
              "</div>"
            ],
            "text/plain": [
              "              High     Low   Close     Bid     Ask        Volume    VWAP\n",
              "Date                                                                    \n",
              "2014-04-15  515.00  453.16  499.01  500.01  505.04  28535.844106  491.41\n",
              "2014-04-16  548.00  494.02  534.00  535.01  536.00  31159.941300  520.21\n",
              "2014-04-17  537.24  481.63  506.52  504.70  505.38  21126.375080  504.83\n",
              "2014-04-18  508.43  470.00  487.00  484.14  487.00  11879.484756  485.72\n",
              "2014-04-19  507.43  472.81  504.74  504.74  505.00  10262.195861  492.22"
            ]
          },
          "metadata": {
            "tags": []
          },
          "execution_count": 4
        }
      ]
    },
    {
      "cell_type": "code",
      "metadata": {
        "id": "-oOHTBWH5B3l",
        "colab_type": "code",
        "colab": {
          "base_uri": "https://localhost:8080/",
          "height": 52
        },
        "outputId": "9c63e663-e9bf-482d-dadf-9ea3b1d5de86"
      },
      "source": [
        "short = int(input('Enter the short window size '))\n",
        "long = int(input('Enter the long window size '))"
      ],
      "execution_count": 5,
      "outputs": [
        {
          "output_type": "stream",
          "text": [
            "Enter the short window size 50\n",
            "Enter the long window size 100\n"
          ],
          "name": "stdout"
        }
      ]
    },
    {
      "cell_type": "code",
      "metadata": {
        "id": "11mDwbXs5SB5",
        "colab_type": "code",
        "colab": {}
      },
      "source": [
        "signals = pd.DataFrame(index=df.index)\n",
        "signals['signal'] = 0.0"
      ],
      "execution_count": 0,
      "outputs": []
    },
    {
      "cell_type": "code",
      "metadata": {
        "id": "EdDTFIlI5fIw",
        "colab_type": "code",
        "colab": {}
      },
      "source": [
        "signals['short_mavg'] = df['Close'].rolling(window=short, min_periods=1, center=False).mean()\n",
        "signals['long_mavg'] = df['Close'].rolling(window=long, min_periods=1, center=False).mean()"
      ],
      "execution_count": 0,
      "outputs": []
    },
    {
      "cell_type": "code",
      "metadata": {
        "id": "IMfw24xu54EE",
        "colab_type": "code",
        "colab": {}
      },
      "source": [
        "signals['signal'][short:] = np.where(signals['short_mavg'][short:]\n",
        "> signals['long_mavg'][short:], 1.0, 0.0) "
      ],
      "execution_count": 0,
      "outputs": []
    },
    {
      "cell_type": "code",
      "metadata": {
        "id": "53xpMQ0L6L9C",
        "colab_type": "code",
        "colab": {}
      },
      "source": [
        "signals['positions'] = signals['signal'].diff()"
      ],
      "execution_count": 0,
      "outputs": []
    },
    {
      "cell_type": "code",
      "metadata": {
        "id": "kumbkxJh6evK",
        "colab_type": "code",
        "colab": {
          "base_uri": "https://localhost:8080/",
          "height": 290
        },
        "outputId": "a282201d-df41-4a15-c132-b93fbd712692"
      },
      "source": [
        "fig = plt.figure()\n",
        "ax1 = fig.add_subplot(111, ylabel='Price in $')\n",
        "df['Close'].plot(ax=ax1, lw=2.)\n",
        "signals[['short_mavg', 'long_mavg']].plot(ax=ax1, lw=2.)\n",
        "ax1.plot(signals.loc[signals.positions == 1.0].index,\n",
        "signals.short_mavg[signals.positions == 1.0],\n",
        "'^', markersize=10, color='m') \n",
        "ax1.plot(signals.loc[signals.positions == -1.0].index,\n",
        "signals.short_mavg[signals.positions == -1.0],\n",
        "'v', markersize=10, color='#FF0023') "
      ],
      "execution_count": 23,
      "outputs": [
        {
          "output_type": "execute_result",
          "data": {
            "text/plain": [
              "[<matplotlib.lines.Line2D at 0x7fc435d27978>]"
            ]
          },
          "metadata": {
            "tags": []
          },
          "execution_count": 23
        },
        {
          "output_type": "display_data",
          "data": {
            "image/png": "[encoded data removed]",
            "text/plain": [
              "<Figure size 432x288 with 1 Axes>"
            ]
          },
          "metadata": {
            "tags": []
          }
        }
      ]
    }
  ]
}